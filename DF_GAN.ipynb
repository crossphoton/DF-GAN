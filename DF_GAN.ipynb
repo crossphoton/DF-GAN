{
  "nbformat": 4,
  "nbformat_minor": 0,
  "metadata": {
    "colab": {
      "name": "DF-GAN.ipynb",
      "provenance": [],
      "collapsed_sections": [
        "zDZFUGz9M06T",
        "aW-TSaCMijY_"
      ]
    },
    "kernelspec": {
      "name": "python3",
      "display_name": "Python 3"
    },
    "language_info": {
      "name": "python"
    },
    "accelerator": "GPU"
  },
  "cells": [
    {
      "cell_type": "code",
      "metadata": {
        "colab": {
          "base_uri": "https://localhost:8080/"
        },
        "id": "KlOKRIDLJmqD",
        "outputId": "524a9475-a13d-45bb-f47a-3e718ef07822"
      },
      "source": [
        "!nvidia-smi"
      ],
      "execution_count": 2,
      "outputs": [
        {
          "output_type": "stream",
          "name": "stdout",
          "text": [
            "Sun Oct 10 03:02:33 2021       \n",
            "+-----------------------------------------------------------------------------+\n",
            "| NVIDIA-SMI 470.74       Driver Version: 460.32.03    CUDA Version: 11.2     |\n",
            "|-------------------------------+----------------------+----------------------+\n",
            "| GPU  Name        Persistence-M| Bus-Id        Disp.A | Volatile Uncorr. ECC |\n",
            "| Fan  Temp  Perf  Pwr:Usage/Cap|         Memory-Usage | GPU-Util  Compute M. |\n",
            "|                               |                      |               MIG M. |\n",
            "|===============================+======================+======================|\n",
            "|   0  Tesla K80           Off  | 00000000:00:04.0 Off |                    0 |\n",
            "| N/A   62C    P8    31W / 149W |      0MiB / 11441MiB |      0%      Default |\n",
            "|                               |                      |                  N/A |\n",
            "+-------------------------------+----------------------+----------------------+\n",
            "                                                                               \n",
            "+-----------------------------------------------------------------------------+\n",
            "| Processes:                                                                  |\n",
            "|  GPU   GI   CI        PID   Type   Process name                  GPU Memory |\n",
            "|        ID   ID                                                   Usage      |\n",
            "|=============================================================================|\n",
            "|  No running processes found                                                 |\n",
            "+-----------------------------------------------------------------------------+\n"
          ]
        }
      ]
    },
    {
      "cell_type": "markdown",
      "metadata": {
        "id": "hjLkK-YOIeML"
      },
      "source": [
        "### Clear everything\n",
        "\n"
      ]
    },
    {
      "cell_type": "code",
      "metadata": {
        "id": "RebF2c14IcIw"
      },
      "source": [
        "!rm -rf DF-GAN"
      ],
      "execution_count": 3,
      "outputs": []
    },
    {
      "cell_type": "markdown",
      "metadata": {
        "id": "kPR4obYOMXeR"
      },
      "source": [
        "### Get Code"
      ]
    },
    {
      "cell_type": "code",
      "metadata": {
        "id": "Doc01JgNHfAC"
      },
      "source": [
        "pick_me = \"crossphoton\"  #@param ['crossphoton', 'tobran']"
      ],
      "execution_count": 4,
      "outputs": []
    },
    {
      "cell_type": "code",
      "metadata": {
        "colab": {
          "base_uri": "https://localhost:8080/"
        },
        "id": "aL_X9y4tMUtf",
        "outputId": "12d5baab-b31e-4b48-8db2-c8d930237468"
      },
      "source": [
        "if pick_me == \"crossphoton\":\n",
        "  !git clone https://github.com/crossphoton/DF-GAN.git\n",
        "else:\n",
        "  !git clone https://github.com/tobran/DF-GAN.git\n"
      ],
      "execution_count": 5,
      "outputs": [
        {
          "output_type": "stream",
          "name": "stdout",
          "text": [
            "Cloning into 'DF-GAN'...\n",
            "remote: Enumerating objects: 141, done.\u001b[K\n",
            "remote: Counting objects: 100% (29/29), done.\u001b[K\n",
            "remote: Compressing objects: 100% (27/27), done.\u001b[K\n",
            "remote: Total 141 (delta 10), reused 6 (delta 1), pack-reused 112\u001b[K\n",
            "Receiving objects: 100% (141/141), 1.99 MiB | 639.00 KiB/s, done.\n",
            "Resolving deltas: 100% (49/49), done.\n"
          ]
        }
      ]
    },
    {
      "cell_type": "markdown",
      "metadata": {
        "id": "zDZFUGz9M06T"
      },
      "source": [
        "### Get data"
      ]
    },
    {
      "cell_type": "markdown",
      "metadata": {
        "id": "NYhv6A6ZRboW"
      },
      "source": [
        "#### Get Metadata"
      ]
    },
    {
      "cell_type": "code",
      "metadata": {
        "id": "2N84vQjIg5b5",
        "colab": {
          "base_uri": "https://localhost:8080/"
        },
        "outputId": "a8431089-98e5-4112-b748-6a451ddef09d"
      },
      "source": [
        "%%shell\n",
        "# Clean workspace\n",
        "\n",
        "cd DF-GAN/data\n",
        "rm -rf coco/ birds/"
      ],
      "execution_count": 6,
      "outputs": [
        {
          "output_type": "execute_result",
          "data": {
            "text/plain": [
              ""
            ]
          },
          "metadata": {},
          "execution_count": 6
        }
      ]
    },
    {
      "cell_type": "code",
      "metadata": {
        "id": "lnAvNEjtM5QM",
        "colab": {
          "base_uri": "https://localhost:8080/"
        },
        "outputId": "817533ce-0d60-42ec-83ca-5915794bd02d"
      },
      "source": [
        "%%shell\n",
        "\n",
        "cd DF-GAN/data\n",
        "\n",
        "# birds\n",
        "gdown -O temp.zip https://drive.google.com/uc?id=1O_LtUP9sch09QH3s_EBAgLEctBQ5JBSJ\n",
        "unzip temp.zip > /dev/null\n",
        "rm temp.zip\n",
        "rm -rf __MACOSX/\n",
        "\n",
        "# coco\n",
        "gdown -O temp.zip https://drive.google.com/uc?id=1rSnbIGNDGZeHlsUlLdahj0RJ9oo6lgH9\n",
        "unzip temp.zip > /dev/null\n",
        "rm temp.zip\n",
        "rm -rf __MACOSX/\n",
        "\n"
      ],
      "execution_count": 7,
      "outputs": [
        {
          "output_type": "stream",
          "name": "stdout",
          "text": [
            "Downloading...\n",
            "From: https://drive.google.com/uc?id=1O_LtUP9sch09QH3s_EBAgLEctBQ5JBSJ\n",
            "To: /content/DF-GAN/data/temp.zip\n",
            "100% 6.49M/6.49M [00:00<00:00, 24.5MB/s]\n",
            "Downloading...\n",
            "From: https://drive.google.com/uc?id=1rSnbIGNDGZeHlsUlLdahj0RJ9oo6lgH9\n",
            "To: /content/DF-GAN/data/temp.zip\n",
            "100% 33.3M/33.3M [00:00<00:00, 80.2MB/s]\n"
          ]
        },
        {
          "output_type": "execute_result",
          "data": {
            "text/plain": [
              ""
            ]
          },
          "metadata": {},
          "execution_count": 7
        }
      ]
    },
    {
      "cell_type": "markdown",
      "metadata": {
        "id": "IAaAevWMbkPS"
      },
      "source": [
        "#### Get Datasets"
      ]
    },
    {
      "cell_type": "code",
      "metadata": {
        "id": "F9WliyMCUw93",
        "colab": {
          "base_uri": "https://localhost:8080/"
        },
        "outputId": "3de79e64-4521-4c66-e255-44d9de441c00"
      },
      "source": [
        "%%shell\n",
        "# birds\n",
        "\n",
        "cd DF-GAN/data/birds/\n",
        "gdown -O temp.tgz --id 1hbzc_P1FuxMkcabkgn9ZKinBwW683j45\n",
        "tar -xvzf temp.tgz > /dev/null\n",
        "rm temp.tgz"
      ],
      "execution_count": 8,
      "outputs": [
        {
          "output_type": "stream",
          "name": "stdout",
          "text": [
            "Downloading...\n",
            "From: https://drive.google.com/uc?id=1hbzc_P1FuxMkcabkgn9ZKinBwW683j45\n",
            "To: /content/DF-GAN/data/birds/temp.tgz\n",
            "100% 1.15G/1.15G [00:11<00:00, 103MB/s] \n"
          ]
        },
        {
          "output_type": "execute_result",
          "data": {
            "text/plain": [
              ""
            ]
          },
          "metadata": {},
          "execution_count": 8
        }
      ]
    },
    {
      "cell_type": "code",
      "metadata": {
        "colab": {
          "base_uri": "https://localhost:8080/"
        },
        "id": "2EY6TPtMcHUz",
        "outputId": "e3feb795-b149-4349-8dde-30c6ee12b82c"
      },
      "source": [
        "%%shell\n",
        "# coco\n",
        "\n",
        "cd DF-GAN/data/coco/\n",
        "\n",
        "wget http://images.cocodataset.org/zips/train2017.zip\n",
        "wget http://images.cocodataset.org/zips/val2017.zip\n",
        "wget http://images.cocodataset.org/zips/test2017.zip\n",
        "wget http://images.cocodataset.org/zips/unlabeled2017.zip\n",
        "\n",
        "rm -rf train2017 val2017 test2017 unlabeled2017\n",
        "\n",
        "unzip train2017.zip > /dev/null\n",
        "rm train2017.zip\n",
        "\n",
        "unzip val2017.zip > /dev/null\n",
        "rm val2017.zip\n",
        "\n",
        "unzip test2017.zip > /dev/null\n",
        "rm test2017.zip\n",
        "\n",
        "unzip unlabeled2017.zip > /dev/null\n",
        "rm unlabeled2017.zip"
      ],
      "execution_count": null,
      "outputs": [
        {
          "metadata": {
            "tags": null
          },
          "name": "stdout",
          "output_type": "stream",
          "text": [
            "unzip:  cannot find or open train2017.zip, train2017.zip.zip or train2017.zip.ZIP.\n",
            "rm: cannot remove 'train2017.zip': No such file or directory\n",
            "unzip:  cannot find or open val2017.zip, val2017.zip.zip or val2017.zip.ZIP.\n",
            "rm: cannot remove 'val2017.zip': No such file or directory\n"
          ]
        }
      ]
    },
    {
      "cell_type": "markdown",
      "metadata": {
        "id": "foBTdK0zd4Mm"
      },
      "source": [
        "#### Get Encoders"
      ]
    },
    {
      "cell_type": "code",
      "metadata": {
        "colab": {
          "base_uri": "https://localhost:8080/"
        },
        "id": "QvkXK79cd6HU",
        "outputId": "99af336c-c917-45b0-de9a-cf0df0889ec6"
      },
      "source": [
        "%%shell\n",
        "\n",
        "rm -rf DF-GAN/DAMSMencoders/*\n",
        "\n",
        "cd DF-GAN/DAMSMencoders/\n",
        "mkdir -p bird\n",
        "mkdir -p coco\n",
        "\n",
        "gdown -O bird/temp.zip --id 1GNUKjVeyWYBJ8hEU-yrfYQpDOkxEyP3V\n",
        "gdown -O coco/temp.zip --id 1GNUKjVeyWYBJ8hEU-yrfYQpDOkxEyP3V\n",
        "\n",
        "unzip bird/temp.zip -d bird\n",
        "mv bird/bird bird/inception\n",
        "unzip coco/temp.zip -d coco\n",
        "mv coco/bird coco/inception\n",
        "\n",
        "rm bird/temp.zip coco/temp.zip"
      ],
      "execution_count": 9,
      "outputs": [
        {
          "output_type": "stream",
          "name": "stdout",
          "text": [
            "Downloading...\n",
            "From: https://drive.google.com/uc?id=1GNUKjVeyWYBJ8hEU-yrfYQpDOkxEyP3V\n",
            "To: /content/DF-GAN/DAMSMencoders/bird/temp.zip\n",
            "100% 91.4M/91.4M [00:01<00:00, 56.0MB/s]\n",
            "Downloading...\n",
            "From: https://drive.google.com/uc?id=1GNUKjVeyWYBJ8hEU-yrfYQpDOkxEyP3V\n",
            "To: /content/DF-GAN/DAMSMencoders/coco/temp.zip\n",
            "100% 91.4M/91.4M [00:00<00:00, 127MB/s] \n",
            "Archive:  bird/temp.zip\n",
            "   creating: bird/bird/\n",
            "  inflating: bird/bird/image_encoder200.pth  \n",
            "  inflating: bird/bird/text_encoder200.pth  \n",
            "Archive:  coco/temp.zip\n",
            "   creating: coco/bird/\n",
            "  inflating: coco/bird/image_encoder200.pth  \n",
            "  inflating: coco/bird/text_encoder200.pth  \n"
          ]
        },
        {
          "output_type": "execute_result",
          "data": {
            "text/plain": [
              ""
            ]
          },
          "metadata": {},
          "execution_count": 9
        }
      ]
    },
    {
      "cell_type": "markdown",
      "metadata": {
        "id": "aW-TSaCMijY_"
      },
      "source": [
        "### Training"
      ]
    },
    {
      "cell_type": "code",
      "metadata": {
        "id": "Blr2GqzuiniU",
        "colab": {
          "base_uri": "https://localhost:8080/"
        },
        "outputId": "a0ee6173-aca7-4207-f49d-0595e3cbd6e4"
      },
      "source": [
        "%%shell\n",
        "# birds\n",
        "\n",
        "cd DF-GAN/code\n",
        "mkdir -p imgs models/bird\n",
        "python3 main.py --cfg cfg/bird.yml"
      ],
      "execution_count": 19,
      "outputs": [
        {
          "output_type": "stream",
          "name": "stdout",
          "text": [
            "Using config:\n",
            "{'B_VALIDATION': False,\n",
            " 'CONFIG_NAME': 'bird',\n",
            " 'CUDA': True,\n",
            " 'DATASET_NAME': 'birds',\n",
            " 'DATA_DIR': '../data/birds',\n",
            " 'GAN': {'B_ATTENTION': True,\n",
            "         'B_DCGAN': True,\n",
            "         'CONDITION_DIM': 100,\n",
            "         'DF_DIM': 64,\n",
            "         'GF_DIM': 128,\n",
            "         'R_NUM': 2,\n",
            "         'Z_DIM': 100},\n",
            " 'GPU_ID': 0,\n",
            " 'RNN_TYPE': 'LSTM',\n",
            " 'TEXT': {'CAPTIONS_PER_IMAGE': 10,\n",
            "          'DAMSM_NAME': '../DAMSMencoders/bird/inception/text_encoder200.pth',\n",
            "          'EMBEDDING_DIM': 256,\n",
            "          'WORDS_NUM': 18},\n",
            " 'TRAIN': {'BATCH_SIZE': 24,\n",
            "           'B_NET_D': True,\n",
            "           'DISCRIMINATOR_LR': 0.0002,\n",
            "           'ENCODER_LR': 0.0002,\n",
            "           'FLAG': True,\n",
            "           'GENERATOR_LR': 0.0002,\n",
            "           'MAX_EPOCH': 1,\n",
            "           'NET_E': '',\n",
            "           'NET_G': '../test',\n",
            "           'NF': 32,\n",
            "           'RNN_GRAD_CLIP': 0.25,\n",
            "           'SMOOTH': {'GAMMA1': 5.0,\n",
            "                      'GAMMA2': 5.0,\n",
            "                      'GAMMA3': 10.0,\n",
            "                      'LAMBDA': 1.0},\n",
            "           'SNAPSHOT_INTERVAL': 2000},\n",
            " 'TREE': {'BASE_SIZE': 256, 'BRANCH_NUM': 1},\n",
            " 'WORKERS': 1,\n",
            " 'loss': 'hinge'}\n",
            "seed now is :  100\n",
            "Total filenames:  11788 001.Black_footed_Albatross/Black_Footed_Albatross_0046_18.jpg\n",
            "Load filenames from: ../data/birds/train/filenames.pickle (8855)\n",
            "Load filenames from: ../data/birds/test/filenames.pickle (2933)\n",
            "Load from:  ../data/birds/captions.pickle\n",
            "5450 10\n",
            "/usr/local/lib/python3.7/dist-packages/torch/nn/modules/rnn.py:65: UserWarning: dropout option adds dropout after all but last recurrent layer, so non-zero dropout expects num_layers greater than 1, but got dropout=0.5 and num_layers=1\n",
            "  \"num_layers={}\".format(dropout, num_layers))\n",
            "Starting........\n",
            "\n",
            "\n",
            "\n",
            "\n",
            "\n",
            "\n",
            "[1/1][0/368] Loss_D: 2.000 Loss_G -0.019\n",
            "[1/1][1/368] Loss_D: 1.992 Loss_G -0.007\n"
          ]
        },
        {
          "output_type": "execute_result",
          "data": {
            "text/plain": [
              ""
            ]
          },
          "metadata": {},
          "execution_count": 19
        }
      ]
    },
    {
      "cell_type": "code",
      "metadata": {
        "id": "iHf2blUujCWA"
      },
      "source": [
        "%%shell\n",
        "# coco\n",
        "\n",
        "cd DF-GAN/code\n",
        "mkdir -p imgs models/coco\n",
        "\n",
        "python3 main.py --cfg cfg/coco.yml"
      ],
      "execution_count": null,
      "outputs": []
    },
    {
      "cell_type": "markdown",
      "metadata": {
        "id": "1EPMo969jaKE"
      },
      "source": [
        "### Pre-trained Models"
      ]
    },
    {
      "cell_type": "markdown",
      "metadata": {
        "id": "fqTmp0BSjgGY"
      },
      "source": [
        "#### Get models"
      ]
    },
    {
      "cell_type": "code",
      "metadata": {
        "id": "Y59ufGP7jeNA",
        "colab": {
          "base_uri": "https://localhost:8080/"
        },
        "outputId": "2a6b74b6-da4f-4b9e-ac1c-71accbab276a"
      },
      "source": [
        "%%shell\n",
        "\n",
        "cd DF-GAN/code\n",
        "mkdir -p models/bird\n",
        "mkdir models/coco\n",
        "\n",
        "cd models\n",
        "\n",
        "gdown -O bird/netG.pth --id 1svVTyKWj5B1J82rEiZILUS289DsmT6U7\n",
        "gdown -O coco/netG.pth --id 15llod5eTjjdzDTXQroJG_eh2c-GrW9H7"
      ],
      "execution_count": null,
      "outputs": [
        {
          "output_type": "stream",
          "name": "stdout",
          "text": [
            "Downloading...\n",
            "From: https://drive.google.com/uc?id=1svVTyKWj5B1J82rEiZILUS289DsmT6U7\n",
            "To: /content/DF-GAN/code/models/bird/netG.pth\n",
            "49.0MB [00:00, 68.5MB/s]\n",
            "Downloading...\n",
            "From: https://drive.google.com/uc?id=15llod5eTjjdzDTXQroJG_eh2c-GrW9H7\n",
            "To: /content/DF-GAN/code/models/coco/netG.pth\n",
            "49.0MB [00:00, 73.7MB/s]\n"
          ]
        },
        {
          "output_type": "execute_result",
          "data": {
            "text/plain": [
              ""
            ]
          },
          "metadata": {},
          "execution_count": 7
        }
      ]
    },
    {
      "cell_type": "markdown",
      "metadata": {
        "id": "vYNdDv21mxjq"
      },
      "source": [
        "### Evaluation\n",
        "\n",
        "Change configuration `B_VALIDATION:True`\n"
      ]
    },
    {
      "cell_type": "markdown",
      "metadata": {
        "id": "F0F7--q6eNY-"
      },
      "source": [
        "#### Remove `caption.pickle`\n",
        "\n",
        "Force creation of new dictionary."
      ]
    },
    {
      "cell_type": "code",
      "metadata": {
        "colab": {
          "base_uri": "https://localhost:8080/"
        },
        "id": "6OpcMR0nebip",
        "outputId": "d2e1053b-1f6a-4f64-d686-f71d86930953"
      },
      "source": [
        "%%shell\n",
        "pwd\n",
        "ls\n",
        "cd DF-GAN/data/birds\n",
        "unzip text.zip > /dev/null\n",
        "rm captions.pickle"
      ],
      "execution_count": null,
      "outputs": [
        {
          "output_type": "stream",
          "name": "stdout",
          "text": [
            "/content\n",
            "DF-GAN\tsample_data\n"
          ]
        },
        {
          "output_type": "execute_result",
          "data": {
            "text/plain": [
              ""
            ]
          },
          "metadata": {},
          "execution_count": 20
        }
      ]
    },
    {
      "cell_type": "markdown",
      "metadata": {
        "id": "Cl36NLg_eouf"
      },
      "source": [
        "#### Evaluation"
      ]
    },
    {
      "cell_type": "code",
      "metadata": {
        "id": "6TaCCFd3q1xk",
        "colab": {
          "base_uri": "https://localhost:8080/"
        },
        "outputId": "7ab940a2-1413-48ef-debd-f2d59ac56f9d"
      },
      "source": [
        "%%shell\n",
        "\n",
        "cd DF-GAN/code\n",
        "\n",
        "# bird\n",
        "time python main.py --cfg cfg/bird.yml"
      ],
      "execution_count": null,
      "outputs": [
        {
          "output_type": "stream",
          "name": "stdout",
          "text": [
            "Using config:\n",
            "{'B_VALIDATION': True,\n",
            " 'CONFIG_NAME': 'bird',\n",
            " 'CUDA': True,\n",
            " 'DATASET_NAME': 'birds',\n",
            " 'DATA_DIR': '../data/birds',\n",
            " 'GAN': {'B_ATTENTION': True,\n",
            "         'B_DCGAN': True,\n",
            "         'CONDITION_DIM': 100,\n",
            "         'DF_DIM': 64,\n",
            "         'GF_DIM': 128,\n",
            "         'R_NUM': 2,\n",
            "         'Z_DIM': 100},\n",
            " 'GPU_ID': 0,\n",
            " 'RNN_TYPE': 'LSTM',\n",
            " 'TEXT': {'CAPTIONS_PER_IMAGE': 10,\n",
            "          'DAMSM_NAME': '../DAMSMencoders/bird/inception/text_encoder200.pth',\n",
            "          'EMBEDDING_DIM': 256,\n",
            "          'WORDS_NUM': 18},\n",
            " 'TRAIN': {'BATCH_SIZE': 24,\n",
            "           'B_NET_D': True,\n",
            "           'DISCRIMINATOR_LR': 0.0002,\n",
            "           'ENCODER_LR': 0.0002,\n",
            "           'FLAG': True,\n",
            "           'GENERATOR_LR': 0.0002,\n",
            "           'MAX_EPOCH': 601,\n",
            "           'NET_E': '',\n",
            "           'NET_G': '../test',\n",
            "           'NF': 32,\n",
            "           'RNN_GRAD_CLIP': 0.25,\n",
            "           'SMOOTH': {'GAMMA1': 5.0,\n",
            "                      'GAMMA2': 5.0,\n",
            "                      'GAMMA3': 10.0,\n",
            "                      'LAMBDA': 1.0},\n",
            "           'SNAPSHOT_INTERVAL': 2000},\n",
            " 'TREE': {'BASE_SIZE': 256, 'BRANCH_NUM': 1},\n",
            " 'WORKERS': 1,\n",
            " 'loss': 'hinge'}\n",
            "seed now is :  100\n",
            "Total filenames:  11788 001.Black_footed_Albatross/Black_Footed_Albatross_0046_18.jpg\n",
            "Load filenames from: ../data/birds/train/filenames.pickle (8855)\n",
            "Load filenames from: ../data/birds/test/filenames.pickle (2933)\n",
            "Save to:  ../data/birds/captions.pickle\n",
            "5450 10\n",
            "/usr/local/lib/python3.7/dist-packages/torch/nn/modules/rnn.py:65: UserWarning: dropout option adds dropout after all but last recurrent layer, so non-zero dropout expects num_layers greater than 1, but got dropout=0.5 and num_layers=1\n",
            "  \"num_layers={}\".format(dropout, num_layers))\n",
            "Starting........\n",
            "\n",
            "\n",
            "\n",
            "\n",
            "\n",
            "\n",
            "step:  0\n",
            "step:  100\n",
            "state_epoch:  0\n",
            "\n",
            "real\t2m24.930s\n",
            "user\t2m40.511s\n",
            "sys\t0m7.333s\n"
          ]
        },
        {
          "output_type": "execute_result",
          "data": {
            "text/plain": [
              ""
            ]
          },
          "metadata": {},
          "execution_count": 31
        }
      ]
    },
    {
      "cell_type": "code",
      "metadata": {
        "id": "M3-aUQvErivu"
      },
      "source": [
        "%%shell\n",
        "\n",
        "cd DF-GAN/code\n",
        "\n",
        "# coco\n",
        "python main.py --cfg cfg/coco.yml"
      ],
      "execution_count": null,
      "outputs": []
    },
    {
      "cell_type": "code",
      "metadata": {
        "id": "gTPoLvQ8vUWv"
      },
      "source": [
        "!rm -rf DF-GAN/models"
      ],
      "execution_count": null,
      "outputs": []
    }
  ]
}